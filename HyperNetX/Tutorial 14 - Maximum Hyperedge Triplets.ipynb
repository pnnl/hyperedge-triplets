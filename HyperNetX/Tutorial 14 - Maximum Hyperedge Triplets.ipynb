{
 "cells": [
  {
   "cell_type": "code",
   "execution_count": 1,
   "metadata": {
    "execution": {
     "iopub.execute_input": "2025-02-25T01:30:43.107336Z",
     "iopub.status.busy": "2025-02-25T01:30:43.107101Z",
     "iopub.status.idle": "2025-02-25T01:30:43.116381Z",
     "shell.execute_reply": "2025-02-25T01:30:43.114622Z",
     "shell.execute_reply.started": "2025-02-25T01:30:43.107312Z"
    }
   },
   "outputs": [],
   "source": [
    "#!pip install hypernetx"
   ]
  },
  {
   "cell_type": "code",
   "execution_count": 2,
   "metadata": {
    "execution": {
     "iopub.execute_input": "2025-02-25T01:30:43.117330Z",
     "iopub.status.busy": "2025-02-25T01:30:43.117200Z",
     "iopub.status.idle": "2025-02-25T01:31:02.229427Z",
     "shell.execute_reply": "2025-02-25T01:31:02.228487Z",
     "shell.execute_reply.started": "2025-02-25T01:30:43.117317Z"
    }
   },
   "outputs": [
    {
     "name": "stderr",
     "output_type": "stream",
     "text": [
      "/opt/miniconda3/envs/hnx/lib/python3.11/site-packages/nptyping/typing_.py:51: DeprecationWarning: `np.bool8` is a deprecated alias for `np.bool_`.  (Deprecated NumPy 1.24)\n",
      "  Bool8 = np.bool8\n",
      "/opt/miniconda3/envs/hnx/lib/python3.11/site-packages/nptyping/typing_.py:54: DeprecationWarning: `np.object0` is a deprecated alias for ``np.object0` is a deprecated alias for `np.object_`. `object` can be used instead.  (Deprecated NumPy 1.24)`.  (Deprecated NumPy 1.24)\n",
      "  Object0 = np.object0\n",
      "/opt/miniconda3/envs/hnx/lib/python3.11/site-packages/nptyping/typing_.py:66: DeprecationWarning: `np.int0` is a deprecated alias for `np.intp`.  (Deprecated NumPy 1.24)\n",
      "  Int0 = np.int0\n",
      "/opt/miniconda3/envs/hnx/lib/python3.11/site-packages/nptyping/typing_.py:80: DeprecationWarning: `np.uint0` is a deprecated alias for `np.uintp`.  (Deprecated NumPy 1.24)\n",
      "  UInt0 = np.uint0\n",
      "/opt/miniconda3/envs/hnx/lib/python3.11/site-packages/nptyping/typing_.py:107: DeprecationWarning: `np.void0` is a deprecated alias for `np.void`.  (Deprecated NumPy 1.24)\n",
      "  Void0 = np.void0\n",
      "/opt/miniconda3/envs/hnx/lib/python3.11/site-packages/nptyping/typing_.py:112: DeprecationWarning: `np.bytes0` is a deprecated alias for `np.bytes_`.  (Deprecated NumPy 1.24)\n",
      "  Bytes0 = np.bytes0\n",
      "/opt/miniconda3/envs/hnx/lib/python3.11/site-packages/nptyping/typing_.py:114: DeprecationWarning: `np.str0` is a deprecated alias for `np.str_`.  (Deprecated NumPy 1.24)\n",
      "  Str0 = np.str0\n"
     ]
    }
   ],
   "source": [
    "import hypernetx as hnx\n",
    "import max_triplet as hnxmt"
   ]
  },
  {
   "attachments": {},
   "cell_type": "markdown",
   "metadata": {},
   "source": [
    "## Maximum Hyperedge Triplets\n",
    "\n",
    "In hypergraphs, hyperedge triplets are sequence-independent sets of three unique hyperedges. Hyperedge triplets vary in their connectivity patterns. In the following figure, we show the venn diagram of three hyperedges where each region represents the intersection between its corresponding hyperedges. We denote the three green regions as the *independent* regions, the three blue regions as the *disjoint* regions, and the red region as the *common* region.\n",
    "\n",
    "<img src=\"images/ShadedTriplet.png\" width=\"100\" align=\"left\" style=\"margin-right:10px\">\n",
    "\n",
    "Maximum hyperedge triplets are based on their independent, disjoint, and common weights.\n",
    "These weights correspond to the three hyperedges which \n",
    "(1) are the least correlated with one another, \n",
    "(2) have the highest pairwise but not groupwise correlation, and \n",
    "(3) are the most correlated with one another, respectively.\n",
    "We find maximum hyperedge triplets by iterating through hyperedges which can exceed the current maximum weight.\n",
    "\n",
    "For a detailed explanation of maximum hyperedge triplets and the algorithms see: \n",
    "*Size-Aware Hyperedge Motifs*. \n",
    "When available, this will be replaced by the paper's citation.\n",
    "\n",
    "In this tutorial, we will introduce how to run the main algorithms featured in the paper."
   ]
  },
  {
   "cell_type": "markdown",
   "metadata": {},
   "source": [
    "## Example on LesMis\n",
    "\n",
    "We will run the maximum hyperedge triplet algorithms on the LesMis dataset. We construct a hypergraph $H$ with characters as nodes and books as hyperedges."
   ]
  },
  {
   "cell_type": "code",
   "execution_count": 3,
   "metadata": {
    "execution": {
     "iopub.execute_input": "2025-02-25T01:31:02.242157Z",
     "iopub.status.busy": "2025-02-25T01:31:02.241539Z",
     "iopub.status.idle": "2025-02-25T01:31:02.583993Z",
     "shell.execute_reply": "2025-02-25T01:31:02.583622Z",
     "shell.execute_reply.started": "2025-02-25T01:31:02.242132Z"
    }
   },
   "outputs": [
    {
     "name": "stderr",
     "output_type": "stream",
     "text": [
      "/Users/prag717/Library/CloudStorage/OneDrive-PNNL/Documents/tdm/hnx/hypernetx/utils/toys/lesmis.py:38: DeprecationWarning: DataFrameGroupBy.apply operated on the grouping columns. This behavior is deprecated, and in a future version of pandas the grouping columns will be excluded from the operation. Either pass `include_groups=False` to exclude the groupings or explicitly select the grouping columns after groupby to silence this warning.\n",
      "  self.book_tour_data = self.df_scenes.groupby([\"Volume\", \"Book\"]).apply(\n"
     ]
    }
   ],
   "source": [
    "lm = hnx.LesMis()\n",
    "\n",
    "### List of characters as they appear in each scene.\n",
    "scenes = lm.df_scenes\n",
    "\n",
    "### Construct a hypergraph\n",
    "### The hyperedges will be the books and the nodes the characters.\n",
    "fantine = scenes.loc[scenes.Volume == 1]\n",
    "cosette = scenes.loc[scenes.Volume == 2]\n",
    "marius = scenes.loc[scenes.Volume == 3]\n",
    "stdenis = scenes.loc[scenes.Volume == 4]\n",
    "jeanvaljean = scenes.loc[scenes.Volume == 5]\n",
    "\n",
    "vols = [fantine, cosette, marius, stdenis, jeanvaljean]\n",
    "names = [\"fantine\", \"cosette\", \"marius\", \"stdenis\", \"jeanvaljean\"]\n",
    "\n",
    "book_edges = dict()\n",
    "for idx in range(0,5):\n",
    "    vol = vols[idx]\n",
    "    name = names[idx]\n",
    "    for book in vols[idx].Book:\n",
    "        label = \"Book #{book} in {name}\".format(name=name, book=book)\n",
    "        book_edges[label] = set(vols[idx].loc[vols[idx].Book == book]['Characters'])\n",
    "\n",
    "H = hnx.Hypergraph(book_edges)"
   ]
  },
  {
   "attachments": {},
   "cell_type": "markdown",
   "metadata": {},
   "source": [
    "## Independent Weight\n",
    "\n",
    "The independent weight of a hyperedge triplet is the minimum size of its independent regions divided by the sum of its disjoint and common regions with one."
   ]
  },
  {
   "cell_type": "code",
   "execution_count": 4,
   "metadata": {
    "execution": {
     "iopub.execute_input": "2025-02-25T01:31:02.584509Z",
     "iopub.status.busy": "2025-02-25T01:31:02.584415Z",
     "iopub.status.idle": "2025-02-25T01:31:02.592184Z",
     "shell.execute_reply": "2025-02-25T01:31:02.591636Z",
     "shell.execute_reply.started": "2025-02-25T01:31:02.584499Z"
    }
   },
   "outputs": [
    {
     "name": "stdout",
     "output_type": "stream",
     "text": [
      "{'weight': 10.0, 'v1': 'Book #12 in stdenis', 'v2': 'Book #7 in fantine', 'v3': 'Book #1 in fantine'}\n"
     ]
    }
   ],
   "source": [
    "max_triplet = hnxmt.max_independent(H)\n",
    "\n",
    "print(max_triplet)"
   ]
  },
  {
   "attachments": {},
   "cell_type": "markdown",
   "metadata": {},
   "source": [
    "## Disjoint Weight\n",
    "\n",
    "The disjoint weight of a hyperedge triplet is the minimum size of its disjoint regions divided by the sum of its common region and one."
   ]
  },
  {
   "cell_type": "code",
   "execution_count": 5,
   "metadata": {
    "execution": {
     "iopub.execute_input": "2025-02-25T01:31:02.592779Z",
     "iopub.status.busy": "2025-02-25T01:31:02.592673Z",
     "iopub.status.idle": "2025-02-25T01:31:02.600400Z",
     "shell.execute_reply": "2025-02-25T01:31:02.599907Z",
     "shell.execute_reply.started": "2025-02-25T01:31:02.592769Z"
    }
   },
   "outputs": [
    {
     "name": "stdout",
     "output_type": "stream",
     "text": [
      "{'weight': 3.0, 'v1': 'Book #1 in jeanvaljean', 'v2': 'Book #8 in stdenis', 'v3': 'Book #6 in stdenis'}\n"
     ]
    }
   ],
   "source": [
    "max_triplet = hnxmt.max_disjoint(H)\n",
    "\n",
    "print(max_triplet)"
   ]
  },
  {
   "attachments": {},
   "cell_type": "markdown",
   "metadata": {},
   "source": [
    "## Common Weight\n",
    "\n",
    "The common weight of a hyperedge triplet is the size of its common region."
   ]
  },
  {
   "cell_type": "code",
   "execution_count": 6,
   "metadata": {
    "execution": {
     "iopub.execute_input": "2025-02-25T01:31:02.601064Z",
     "iopub.status.busy": "2025-02-25T01:31:02.600803Z",
     "iopub.status.idle": "2025-02-25T01:31:02.607906Z",
     "shell.execute_reply": "2025-02-25T01:31:02.607353Z",
     "shell.execute_reply.started": "2025-02-25T01:31:02.601038Z"
    }
   },
   "outputs": [
    {
     "name": "stdout",
     "output_type": "stream",
     "text": [
      "{'weight': 8, 'v1': 'Book #1 in jeanvaljean', 'v2': 'Book #12 in stdenis', 'v3': 'Book #14 in stdenis'}\n"
     ]
    }
   ],
   "source": [
    "max_triplet = hnxmt.max_common(H)\n",
    "\n",
    "print(max_triplet)"
   ]
  },
  {
   "cell_type": "markdown",
   "metadata": {},
   "source": [
    "## Optional Speedup\n",
    "\n",
    "For each algorithm, we include an optional parameter *min_weight* which only considers hyperedge triplets which have a weight of at least *min_weight*. Its default value is 0. The closer *min_weight* is to the maximum weight, the faster the algorithm runs."
   ]
  },
  {
   "cell_type": "code",
   "execution_count": null,
   "metadata": {},
   "outputs": [],
   "source": []
  }
 ],
 "metadata": {
  "kernelspec": {
   "display_name": "Python 3 (ipykernel)",
   "language": "python",
   "name": "python3"
  },
  "language_info": {
   "codemirror_mode": {
    "name": "ipython",
    "version": 3
   },
   "file_extension": ".py",
   "mimetype": "text/x-python",
   "name": "python",
   "nbconvert_exporter": "python",
   "pygments_lexer": "ipython3",
   "version": "3.11.8"
  },
  "vscode": {
   "interpreter": {
    "hash": "50bc3c307ede0144b87f013929ac10f176a5326fa20b7d83e3bab150ff956bb1"
   }
  }
 },
 "nbformat": 4,
 "nbformat_minor": 4
}
