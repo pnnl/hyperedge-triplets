{
 "cells": [
  {
   "cell_type": "code",
   "execution_count": null,
   "metadata": {},
   "outputs": [],
   "source": [
    "import hypernetx as hnx\n",
    "from hypernetx.algorithms.max_triplet import max_triplets, local_triplets"
   ]
  },
  {
   "cell_type": "markdown",
   "metadata": {},
   "source": [
    "## Maximum Hyperedge Triplets\n",
    "\n",
    "In hypergraphs, hyperedge triplets are sequence-independent sets of three unique hyperedges. Hyperedge triplets vary in their connectivity patterns. In the following figure, we show the venn diagram of three hyperedges where each region represents the intersection between its corresponding hyperedges. We denote the three green regions as the *independent* regions, the three blue regions as the *disjoint* regions, and the red region as the *common* region.\n",
    "\n",
    "<img src=\"../images/ShadedTriplet.png\" width=\"100\" align=\"left\" style=\"margin-right:10px\">\n",
    "\n",
    "Maximum hyperedge triplets are based on their independent, disjoint, and common weights.\n",
    "These weights correspond to the three hyperedges which \n",
    "(1) are the least correlated with one another, \n",
    "(2) have the highest pairwise but not groupwise correlation, and \n",
    "(3) are the most correlated with one another, respectively.\n",
    "We find maximum hyperedge triplets by iterating through hyperedges which can exceed the current maximum weight.\n",
    "\n",
    "For a detailed explanation of maximum hyperedge triplets and the algorithms see:\n",
    "\n",
    "*Niu, J., Amburg, I. D., Aksoy, S. G., & Sarıyüce, A. E. (2024, December). Retrieving Top-k Hyperedge Triplets: Models and Applications. In 2024 IEEE International Conference on Big Data (BigData) (pp. 630-639). IEEE.*\n",
    "\n",
    "In this tutorial, we will introduce how to run the main algorithms featured in the paper.\n",
    "\n",
    "**Finding Maximum Hyperedge Triplets** \n",
    "\n",
    "*max_triplets(H, weight_type, k=1, min_weight=0)*"
   ]
  },
  {
   "cell_type": "markdown",
   "metadata": {},
   "source": [
    "## Example on LesMis\n",
    "\n",
    "We will run the maximum hyperedge triplet algorithms on the LesMis dataset. We construct a hypergraph $H$ with characters as nodes and books as hyperedges."
   ]
  },
  {
   "cell_type": "code",
   "execution_count": null,
   "metadata": {},
   "outputs": [],
   "source": [
    "lm = hnx.LesMis()\n",
    "\n",
    "### List of characters as they appear in each scene.\n",
    "scenes = lm.df_scenes\n",
    "\n",
    "### Construct a hypergraph\n",
    "### The hyperedges will be the books and the nodes the characters.\n",
    "fantine = scenes.loc[scenes.Volume == 1]\n",
    "cosette = scenes.loc[scenes.Volume == 2]\n",
    "marius = scenes.loc[scenes.Volume == 3]\n",
    "stdenis = scenes.loc[scenes.Volume == 4]\n",
    "jeanvaljean = scenes.loc[scenes.Volume == 5]\n",
    "\n",
    "vols = [fantine, cosette, marius, stdenis, jeanvaljean]\n",
    "names = [\"fantine\", \"cosette\", \"marius\", \"stdenis\", \"jeanvaljean\"]\n",
    "\n",
    "book_edges = dict()\n",
    "for idx in range(0,5):\n",
    "    vol = vols[idx]\n",
    "    name = names[idx]\n",
    "    for book in vols[idx].Book:\n",
    "        label = \"Book #{book} in {name}\".format(name=name, book=book)\n",
    "        book_edges[label] = set(vols[idx].loc[vols[idx].Book == book]['Characters'])\n",
    "\n",
    "H = hnx.Hypergraph(book_edges)"
   ]
  },
  {
   "cell_type": "markdown",
   "metadata": {},
   "source": [
    "## Independent Weight\n",
    "\n",
    "The independent weight of a hyperedge triplet is the minimum size of its independent regions divided by the sum of its disjoint and common regions with one."
   ]
  },
  {
   "cell_type": "code",
   "execution_count": null,
   "metadata": {},
   "outputs": [],
   "source": [
    "max_triplets(H, \"independent\")"
   ]
  },
  {
   "cell_type": "markdown",
   "metadata": {},
   "source": [
    "## Disjoint Weight\n",
    "\n",
    "The disjoint weight of a hyperedge triplet is the minimum size of its disjoint regions divided by the sum of its common region and one."
   ]
  },
  {
   "cell_type": "code",
   "execution_count": null,
   "metadata": {},
   "outputs": [],
   "source": [
    "max_triplets(H, \"disjoint\", min_weight=3)"
   ]
  },
  {
   "cell_type": "markdown",
   "metadata": {},
   "source": [
    "## Common Weight\n",
    "\n",
    "The common weight of a hyperedge triplet is the size of its common region."
   ]
  },
  {
   "cell_type": "code",
   "execution_count": null,
   "metadata": {},
   "outputs": [],
   "source": [
    "max_triplets(H, \"common\", k = 2)"
   ]
  },
  {
   "cell_type": "markdown",
   "metadata": {},
   "source": [
    "## Optional Parameters\n",
    "\n",
    "For each algorithm, we include optional parameters *k* (default: 1) and *min_weight* (default: 0) which outputs the top-*k* triplets which have a weight of at least *min_weight*."
   ]
  },
  {
   "cell_type": "markdown",
   "metadata": {},
   "source": [
    "## Local Hyperedge Triplets\n",
    "\n",
    "**Finds the top hyperedge triplets containing a given hyperedge.**\n",
    "\n",
    "Same format as *max_triplets* with an additional *target_hyperedge* parameter for local traversal.\n",
    "\n",
    "*local_triplets(nodes, hyperedges, weight_type, target_hyperedge, k=1, min_weight=0)*"
   ]
  },
  {
   "cell_type": "code",
   "execution_count": null,
   "metadata": {},
   "outputs": [],
   "source": [
    "local_triplets(H, \"common\", \"Book #8 in marius\", k=2, min_weight=3)"
   ]
  }
 ],
 "metadata": {
  "kernelspec": {
   "display_name": ".venv",
   "language": "python",
   "name": "python3"
  },
  "language_info": {
   "codemirror_mode": {
    "name": "ipython",
    "version": 3
   },
   "file_extension": ".py",
   "mimetype": "text/x-python",
   "name": "python",
   "nbconvert_exporter": "python",
   "pygments_lexer": "ipython3",
   "version": "3.8.10"
  }
 },
 "nbformat": 4,
 "nbformat_minor": 2
}
