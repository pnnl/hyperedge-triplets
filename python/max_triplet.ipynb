{
 "cells": [
  {
   "cell_type": "code",
   "execution_count": null,
   "metadata": {},
   "outputs": [],
   "source": [
    "from max_triplet import max_triplets, local_triplets"
   ]
  },
  {
   "attachments": {},
   "cell_type": "markdown",
   "metadata": {},
   "source": [
    "## Maximum Hyperedge Triplets\n",
    "\n",
    "In hypergraphs, hyperedge triplets are sequence-independent sets of three unique hyperedges. Hyperedge triplets vary in their connectivity patterns. In the following figure, we show the venn diagram of three hyperedges where each region represents the intersection between its corresponding hyperedges. We denote the three green regions as the *independent* regions, the three blue regions as the *disjoint* regions, and the red region as the *common* region.\n",
    "\n",
    "<img src=\"images/ShadedTriplet.png\" width=\"100\" align=\"left\" style=\"margin-right:10px\">\n",
    "\n",
    "Maximum hyperedge triplets are based on their independent, disjoint, and common weights.\n",
    "These weights correspond to the three hyperedges which \n",
    "(1) are the least correlated with one another, \n",
    "(2) have the highest pairwise but not groupwise correlation, and \n",
    "(3) are the most correlated with one another, respectively.\n",
    "We find maximum hyperedge triplets by iterating through hyperedges which can exceed the current maximum weight.\n",
    "\n",
    "For a detailed explanation of maximum hyperedge triplets and the algorithms see:\n",
    "\n",
    "*Niu, J., Amburg, I. D., Aksoy, S. G., & Sarıyüce, A. E. (2024, December). Retrieving Top-k Hyperedge Triplets: Models and Applications. In 2024 IEEE International Conference on Big Data (BigData) (pp. 630-639). IEEE.*\n",
    "\n",
    "In this tutorial, we will introduce how to run the main algorithms featured in the paper.\n",
    "\n",
    "**Finding Maximum Hyperedge Triplets** \n",
    "\n",
    "*max_triplets(nodes, hyperedges, weight_type, k=1, min_weight=0)*"
   ]
  },
  {
   "cell_type": "markdown",
   "metadata": {},
   "source": [
    "## Input Format\n",
    "\n",
    "Hypergraphs are represented by a list of nodes and a list of hyperedges.\n",
    "\n",
    "**nodes**, **hyperedges** : lists of equal length<br>\n",
    "        &emsp;&emsp;For each index $i$, **nodes**[$i$] is in **hyperedges**[$i$].<br>\n",
    "        &emsp;&emsp;For example, if the edge list composed of *(node, hyperedge)* pairs is as follows:<br>\n",
    "            &emsp;&emsp;&emsp;&emsp;[(0, 0), (0, 1), (1, 1)]<br>\n",
    "        &emsp;&emsp;then:<br>\n",
    "            &emsp;&emsp;&emsp;&emsp;**nodes**      = [0, 0, 1]<br>\n",
    "            &emsp;&emsp;&emsp;&emsp;**hyperedges** = [0, 1, 1].\n",
    "\n",
    "Let's create a small hypergraph now."
   ]
  },
  {
   "cell_type": "code",
   "execution_count": null,
   "metadata": {},
   "outputs": [],
   "source": [
    "# Key: Hyperedge; Value: List of corresponding nodes\n",
    "G = {\n",
    "    0: [0, 1],\n",
    "    1: [0, 2],\n",
    "    2: [1, 2],\n",
    "    3: [3],\n",
    "    4: [4],\n",
    "    5: [0, 1],\n",
    "    6: [0, 1, 3]\n",
    "}\n",
    "\n",
    "nodes = []\n",
    "hyperedges = []\n",
    "\n",
    "for hyperedge, neighbors in G.items():\n",
    "    for node in neighbors:\n",
    "        nodes.append(node)\n",
    "        hyperedges.append(hyperedge)"
   ]
  },
  {
   "attachments": {},
   "cell_type": "markdown",
   "metadata": {},
   "source": [
    "## Independent Weight\n",
    "\n",
    "The independent weight of a hyperedge triplet is the minimum size of its independent regions divided by the sum of its disjoint and common regions with one."
   ]
  },
  {
   "cell_type": "code",
   "execution_count": null,
   "metadata": {},
   "outputs": [],
   "source": [
    "max_triplets(nodes, hyperedges, \"independent\")"
   ]
  },
  {
   "attachments": {},
   "cell_type": "markdown",
   "metadata": {},
   "source": [
    "## Disjoint Weight\n",
    "\n",
    "The disjoint weight of a hyperedge triplet is the minimum size of its disjoint regions divided by the sum of its common region and one."
   ]
  },
  {
   "cell_type": "code",
   "execution_count": null,
   "metadata": {},
   "outputs": [],
   "source": [
    "max_triplets(nodes, hyperedges, \"disjoint\", min_weight=1)"
   ]
  },
  {
   "attachments": {},
   "cell_type": "markdown",
   "metadata": {},
   "source": [
    "## Common Weight\n",
    "\n",
    "The common weight of a hyperedge triplet is the size of its common region."
   ]
  },
  {
   "cell_type": "code",
   "execution_count": null,
   "metadata": {},
   "outputs": [],
   "source": [
    "max_triplets(nodes, hyperedges, \"common\", k=2)"
   ]
  },
  {
   "cell_type": "markdown",
   "metadata": {},
   "source": [
    "## Optional Parameters\n",
    "\n",
    "For each algorithm, we include optional parameters *k* (default: 1) and *min_weight* (default: 0) which outputs the top-*k* triplets which have a weight of at least *min_weight*."
   ]
  },
  {
   "cell_type": "markdown",
   "metadata": {},
   "source": [
    "## Local Hyperedge Triplets\n",
    "\n",
    "**Finds the top hyperedge triplets containing a given hyperedge.**\n",
    "\n",
    "Same format as *max_triplets* with an additional *target_hyperedge* parameter for local traversal.\n",
    "\n",
    "*local_triplets(nodes, hyperedges, weight_type, target_hyperedge, k=1, min_weight=0)*"
   ]
  },
  {
   "cell_type": "code",
   "execution_count": null,
   "metadata": {},
   "outputs": [],
   "source": [
    "local_triplets(nodes, hyperedges, \"independent\", 2, k=2, min_weight=0)"
   ]
  }
 ],
 "metadata": {
  "kernelspec": {
   "display_name": "base",
   "language": "python",
   "name": "python3"
  },
  "language_info": {
   "codemirror_mode": {
    "name": "ipython",
    "version": 3
   },
   "file_extension": ".py",
   "mimetype": "text/x-python",
   "name": "python",
   "nbconvert_exporter": "python",
   "pygments_lexer": "ipython3",
   "version": "3.12.3"
  },
  "orig_nbformat": 4
 },
 "nbformat": 4,
 "nbformat_minor": 2
}
